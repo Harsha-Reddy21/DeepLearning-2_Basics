{
 "cells": [
  {
   "cell_type": "code",
   "execution_count": null,
   "id": "9e6f229c",
   "metadata": {},
   "outputs": [],
   "source": []
  },
  {
   "cell_type": "code",
   "execution_count": 10,
   "id": "bb5d3225",
   "metadata": {},
   "outputs": [],
   "source": [
    "import torch \n",
    "import pandas as pd \n",
    "from sklearn.model_selection import train_test_split\n",
    "from sklearn.preprocessing import StandardScaler"
   ]
  },
  {
   "cell_type": "code",
   "execution_count": 11,
   "id": "cb5b748a",
   "metadata": {},
   "outputs": [
    {
     "data": {
      "text/plain": [
       "<torch._C.Generator at 0x225e1aa08f0>"
      ]
     },
     "execution_count": 11,
     "metadata": {},
     "output_type": "execute_result"
    }
   ],
   "source": [
    "torch.manual_seed(1)"
   ]
  },
  {
   "cell_type": "code",
   "execution_count": 12,
   "id": "f765261b",
   "metadata": {},
   "outputs": [],
   "source": [
    "data=pd.read_csv(\"binary_data.csv\")\n",
    "x=data[['f1','f2','f3']]\n",
    "y = data['label'].values.reshape(-1, 1)\n",
    "x_train,x_test,y_train,y_test=train_test_split(x,y,test_size=0.2,random_state=42)"
   ]
  },
  {
   "cell_type": "code",
   "execution_count": null,
   "id": "14121ffb",
   "metadata": {},
   "outputs": [],
   "source": []
  },
  {
   "cell_type": "code",
   "execution_count": 15,
   "id": "1a62862f",
   "metadata": {},
   "outputs": [],
   "source": [
    "scaler=StandardScaler()\n",
    "x_train=scaler.fit_transform(x_train)\n",
    "x_test=scaler.fit_transform(x_test)"
   ]
  },
  {
   "cell_type": "code",
   "execution_count": 16,
   "id": "8f2a1ad4",
   "metadata": {},
   "outputs": [],
   "source": [
    "x_train=torch.tensor(x_train,dtype=torch.float32)\n",
    "x_test=torch.tensor(x_test,dtype=torch.float32)\n",
    "y_train=torch.tensor(y_train,dtype=torch.float32)\n",
    "y_test=torch.tensor(y_test,dtype=torch.float32)"
   ]
  },
  {
   "cell_type": "code",
   "execution_count": 24,
   "id": "de3a5517",
   "metadata": {},
   "outputs": [],
   "source": [
    "w1=torch.randn(3,4,requires_grad=True)\n",
    "b1=torch.zeros(1,4,requires_grad=True)\n",
    "w2=torch.randn(4,1,requires_grad=True)\n",
    "b2=torch.zeros(1,1,requires_grad=True)\n"
   ]
  },
  {
   "cell_type": "code",
   "execution_count": 25,
   "id": "b1457efe",
   "metadata": {},
   "outputs": [],
   "source": [
    "lr = 0.1\n",
    "epochs = 30\n",
    "loss_fn = torch.nn.BCELoss()"
   ]
  },
  {
   "cell_type": "code",
   "execution_count": 26,
   "id": "0499144c",
   "metadata": {},
   "outputs": [
    {
     "name": "stdout",
     "output_type": "stream",
     "text": [
      "Epoch 1: Loss = 1.9541\n",
      "Epoch 5: Loss = 1.1151\n",
      "Epoch 10: Loss = 0.7845\n",
      "Epoch 15: Loss = 0.6465\n",
      "Epoch 20: Loss = 0.5745\n",
      "Epoch 25: Loss = 0.5276\n",
      "Epoch 30: Loss = 0.4943\n"
     ]
    }
   ],
   "source": [
    "for epoch in range(1, epochs + 1):\n",
    "    Z1 = x_train @ w1 + b1\n",
    "    A1 = torch.relu(Z1)\n",
    "    Z2 = A1 @ w2 + b2\n",
    "    Y_pred = torch.sigmoid(Z2)\n",
    "\n",
    "    loss = loss_fn(Y_pred, y_train)\n",
    "\n",
    "\n",
    "    loss.backward()\n",
    "\n",
    "    with torch.no_grad():\n",
    "        w1 -= lr * w1.grad\n",
    "        b1 -= lr * b1.grad\n",
    "        w2 -= lr * w2.grad\n",
    "        b2 -= lr * b2.grad\n",
    "\n",
    "        w1.grad.zero_()\n",
    "        b1.grad.zero_()\n",
    "        w2.grad.zero_()\n",
    "        b2.grad.zero_()\n",
    "\n",
    "    if epoch == 1 or epoch % 5 == 0:\n",
    "        print(f\"Epoch {epoch}: Loss = {loss.item():.4f}\")\n"
   ]
  },
  {
   "cell_type": "code",
   "execution_count": 27,
   "id": "7fdbbc85",
   "metadata": {},
   "outputs": [
    {
     "name": "stdout",
     "output_type": "stream",
     "text": [
      "Accuracy: 70.00%\n"
     ]
    }
   ],
   "source": [
    "\n",
    "with torch.no_grad():\n",
    "    Z1_test = x_test @ w1 + b1\n",
    "    A1_test = torch.relu(Z1_test)\n",
    "    Z2_test = A1_test @ w2 + b2\n",
    "    Y_test_pred = torch.sigmoid(Z2_test)\n",
    "    predictions = (Y_test_pred >= 0.5).float()\n",
    "    acc = (predictions == y_test).float().mean().item() * 100\n",
    "    print(f\"Accuracy: {acc:.2f}%\")\n"
   ]
  },
  {
   "cell_type": "code",
   "execution_count": null,
   "id": "6b5641fb",
   "metadata": {},
   "outputs": [],
   "source": []
  }
 ],
 "metadata": {
  "kernelspec": {
   "display_name": "Python 3",
   "language": "python",
   "name": "python3"
  },
  "language_info": {
   "codemirror_mode": {
    "name": "ipython",
    "version": 3
   },
   "file_extension": ".py",
   "mimetype": "text/x-python",
   "name": "python",
   "nbconvert_exporter": "python",
   "pygments_lexer": "ipython3",
   "version": "3.12.10"
  }
 },
 "nbformat": 4,
 "nbformat_minor": 5
}
